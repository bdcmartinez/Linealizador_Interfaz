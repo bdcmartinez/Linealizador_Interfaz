{
 "cells": [
  {
   "cell_type": "code",
   "execution_count": 2,
   "metadata": {
    "scrolled": true
   },
   "outputs": [
    {
     "name": "stdout",
     "output_type": "stream",
     "text": [
      "Grafica sin logaritmos\n"
     ]
    },
    {
     "data": {
      "image/png": "[encoded data removed]",
      "text/plain": [
       "<Figure size 432x288 with 1 Axes>"
      ]
     },
     "metadata": {
      "needs_background": "light"
     },
     "output_type": "display_data"
    }
   ],
   "source": [
    "import matplotlib.pyplot as plt\n",
    "from matplotlib.pyplot import *\n",
    "import numpy as np\n",
    "import pandas as pd\n",
    "import math\n",
    "import csv\n",
    "from math import log10,floor\n",
    "\n",
    "\n",
    "\n",
    "class Minimos:\n",
    "    def __init__(self,n,archivos,n_a,nombre_ejex,nombre_ejey):\n",
    "        \n",
    "        #------------------------------Declaración de variables que dan nombre a los ejes---------------------------------------\n",
    "\n",
    "        \n",
    "        self.nombre_ejex=nombre_ejex\n",
    "        self.nombre_ejey=nombre_ejey\n",
    "        \n",
    "        #--------------------------Declaración de variables usadas para almacenamiento de datos--------------------------------\n",
    "\n",
    "        \n",
    "        self.archivos=archivos #Almacena en una tupla los nombres de cada archivo el cual cada uno tiene elementos\n",
    "        self.n = n  #Almacena el número de elementos que tiene el archivos txt (número de datos)\n",
    "        self.n_a = n_a #Almacena el número de elementos que hay en la tupla archivos\n",
    "        \n",
    "        self.datos_x = np.zeros((n_a,n)) #Crea matrices con ceros de tamaño #archivos x #datos\n",
    "        self.datos_y = np.zeros((n_a,n))\n",
    "        self.delta=[]\n",
    "        \n",
    "        #--------------------------------Declaración de variables usadas para MC----------------------------------------------\n",
    "        \n",
    "        self.x=[] #Almacenará los datos que se toman como valores de x para aplicar mínimos cuadrados\n",
    "        self.xsinlog=[] #En caso de que se aplique el método de logaritmos entonces esta tupla almacenara los datos sin logaritmo\n",
    "        #mientras que los self.x tendrán logaritmo\n",
    "        self.y=[] #lo mismo pero para y\n",
    "        self.ysinlog=[]\n",
    "        \n",
    "        self.m=0  #Almacenara la pendiente de la linealización\n",
    "        self.b=0  #Almacenará la intersección de la linealización\n",
    "        self.sm=0 #Almacenará el error en la pendiente\n",
    "        self.sb=0 #Almacenraá el error en la intersección\n",
    "        self.cc=0 #Almacenará el coeficiente de correlación de la linealización}}\n",
    "        \n",
    "        \n",
    "    def Obtener_datos(self):\n",
    "        for k,archivo in enumerate(self.archivos):  #k indica el numero del elemento del archivo y archivo almacena el nombre \n",
    "                                                    #almacena la cadena de texto del nombre del archivo\n",
    "            data_txt = np.loadtxt(archivo+\".txt\")   #convierte el archivo de txt a csv para así poder usarlo\n",
    "            data_txtDF = pd.DataFrame(data_txt)\n",
    "            data_txtDF.to_csv(archivo+\".csv\",index=False)\n",
    "\n",
    "            with open(archivo+\".csv\",newline=\"\\n\") as csvfile:\n",
    "                reader = csv.reader(csvfile,delimiter=',') #Lee los datos del archivo csv\n",
    "\n",
    "                l=0   #contador para el numero del elemento en qué está i o j\n",
    "                h=0   #contador para evitar que se almacene el 0 y 1\n",
    "                for i,j in reader:\n",
    "                    if h != 0:  #para indicar que la primera iteración de i y j no debe ser almacenada\n",
    "                        self.datos_x[k,l] = float(i)\n",
    "                        self.datos_y[k,l] = float(j)\n",
    "                        l+=1\n",
    "                    h+=1\n",
    "                    \n",
    "    \n",
    "    def Sacar_Logaritmos(self):\n",
    "        for i in range(self.n):\n",
    "            self.xsinlog.append(self.x[i])\n",
    "            self.ysinlog.append(self.y[i])\n",
    "            if self.x[i]!=0:\n",
    "                self.x[i]=math.log(self.x[i])\n",
    "            self.y[i]=math.log(self.y[i])\n",
    "\n",
    "    def Minimos_cuadrados(self):\n",
    "        y=0\n",
    "        x=0\n",
    "        x_2=0\n",
    "        y_2=0\n",
    "        xy=0\n",
    "        for i in range(self.n):\n",
    "            y = self.y[i]+y\n",
    "            x = self.x[i]+x\n",
    "            xy += self.x[i]*self.y[i]  #Obtiene cada uno de los términos que se necesitan para sacar mínimos cuadrados\n",
    "            x_2+= self.x[i]**2\n",
    "            y_2+= self.y[i]**2\n",
    "\n",
    "        self.m = (self.n*xy-x*y)/(self.n*x_2-x**2)  #Obtiene la pendiente\n",
    "        self.b = (y*x_2-x*xy)/(self.n*x_2-x**2) #Obtiene la intersección\n",
    "\n",
    "        sy=0\n",
    "        for i in range(self.n):\n",
    "            sy+=((self.y[i]-(self.m*self.x[i]+self.b))**2)/(self.n-2) \n",
    "        sy = math.sqrt(sy)\n",
    "\n",
    "        self.sm=sy*math.sqrt(self.n/(self.n*x_2-x**2)) #Obtiene el error de la pendiente\n",
    "        self.sb=sy*math.sqrt(x_2/(self.n*x_2-x**2)) #Obtiene el error de la intersección\n",
    "        self.cc = (self.n*xy-x*y)/(np.sqrt((self.n*x_2-x**2)*(self.n*y_2-y**2))) #Obtiene el coeficiente de correlación\n",
    "\n",
    "            \n",
    "    def Sacar_Promedio(self):\n",
    "        if self.n_a != 1:\n",
    "            for i in range(self.n):\n",
    "                sumax=0\n",
    "                sumay=0\n",
    "                for j in range(self.n_a):\n",
    "                    sumax += self.datos_x[j,i]\n",
    "                    sumay += self.datos_y[j,i]\n",
    "\n",
    "                self.x.append(sumax/self.n_a)\n",
    "                self.y.append(sumay/self.n_a)\n",
    "        else:\n",
    "            for i in range(self.n):\n",
    "                self.x.append(self.datos_x[0,i])\n",
    "                self.y.append(self.datos_y[0,i])\n",
    "            \n",
    "    #------------------------------------Graficadores-------------------------------------------\n",
    "\n",
    "        \n",
    "        \n",
    "    def Graficar_Recta(self,nombre_grafica): \n",
    "        self.nombre_grafica = nombre_grafica\n",
    "        print(nombre_grafica)\n",
    "        p=np.arange(self.x[0],self.x[self.n-1],0.1)\n",
    "        plt.plot(self.x,self.y,'o')\n",
    "        plt.plot(p,self.m*p+self.b)\n",
    "        plt.xlabel(self.nombre_ejex)\n",
    "        plt.ylabel(self.nombre_ejey)\n",
    "        plt.title('Pendulo')\n",
    "        plt.grid()\n",
    "        plt.show()\n",
    "        \n",
    "        \n",
    "    def Graficador(self,nombre_grafica):  #Este graficador grafica los datos que se tengan en las tuplas de self.y y self.x\n",
    "        self.nombre_grafica = nombre_grafica\n",
    "        print(nombre_grafica)\n",
    "\n",
    "        plt.plot(self.x,self.y,\"o\")\n",
    "        plt.xlabel(self.nombre_ejex)\n",
    "        plt.ylabel(self.nombre_ejey) \n",
    "        plt.title('Pendulo')\n",
    "        plt.grid()\n",
    "        plt.show()\n",
    "        \n",
    "    def Graficador_Exp(self,nombre_grafica):\n",
    "        self.nombre_grafica = nombre_grafica\n",
    "        print(nombre_grafica)\n",
    "        x=np.arange(self.xsinlog[0],self.xsinlog[-1],0.001)\n",
    "        plt.plot(self.xsinlog,self.ysinlog,'o')\n",
    "        plt.plot(x,np.e**self.b*x**self.m)\n",
    "        plt.xlabel(self.nombre_ejex)\n",
    "        plt.ylabel(self.nombre_ejey)\n",
    "        plt.title('Pendulo')\n",
    "        plt.grid()\n",
    "        plt.show()\n",
    "    #-------------------------------------------------------------------------------\n",
    "              \n",
    "    def Imprimir_datos(self):\n",
    "        print(\"El valor de la pendiente es:\",self.m)\n",
    "        print(\"El valor de la intersección es:\",self.b)\n",
    "        \n",
    "        print(\"\\nLa ecuación de la recta es y={}x+{}\".format(self.m,self.b))\n",
    "        \n",
    "        print(\"\\nEl error de la pendiente es\",self.sm)\n",
    "        print(\"El error de la intersección es:\",self.sb)\n",
    "        print(\"El valor del coeficiente de correlación es:\",self.cc)\n",
    "        \n",
    "        print(\"La ecuación de la exponencial es: y=e^({})x^({})\".format(self.b,self.m))\n",
    "\n",
    "        \n",
    "    #----------------------Creación de archivos .txt con los datos para graficar en Gnu-Plot---------------------------------\n",
    "    def Escribir_logaritmos(self): \n",
    "        for i in range(self.n):\n",
    "            x = abs(0.02/self.ysinlog[i])\n",
    "            self.delta.append(round(x,1-int(floor(log10(x)))-1))\n",
    "        \n",
    "        fichero1 = open(\"datos_con_log.txt\", 'w')\n",
    "        for i in range(self.n):\n",
    "            fichero1.write('{0:3f} \\t {1:3f} \\t {2:3f} \\t {3:4f}\\n'.format(self.x[i], 0 ,  self.y[i], self.delta[i]))\n",
    "    def Escribir_datos(self):\n",
    "        fichero2 = open(\"datos_sin_log.txt\",\"w\")\n",
    "\n",
    "        for i in range(self.n):\n",
    "            fichero2.write('{0:3f} \\t {1:3f} \\t {2:3f} \\t {3:4f}\\n'.format(self.xsinlog[i], 0 ,  self.ysinlog[i], 0.01))\n",
    "        \n",
    "\n",
    "\n",
    "        \n",
    "#Descripción: este programa sirve para linealizar un conjunto de datos por el metodo de:\n",
    "# 1- minimos cuadrados\n",
    "# 2- minimos cuadrados y logaritmos (log vs log)\n",
    "#Para que funcione el programa tiene que haber un archivo de extensión .txt (bloc de notas) en la misma carpeta donde esté \n",
    "#el programa de tal forma que dentro del archivo estén los datos a analizar separados por un espacio \" \", al termino de la\n",
    "#ejecución del programa se harán una serie de gráficas y se creará un archivo .txt el cual contendrá los datos con logaritmos\n",
    "#Actualmente está configurada para el caso 2-\n",
    "\n",
    "\n",
    "Nombres=[\"datos\"]    \n",
    "nombre_ejex = \"Distancia\"\n",
    "nombre_ejey = \"tan theta\"\n",
    "\n",
    "\n",
    "\n",
    "p = Minimos(12,Nombres,len(Nombres),nombre_ejex,nombre_ejey)  #1-Número de datos del documento, 2-Tupla que contiene lo\n",
    "#nombres de los archivos los cuales tienen datos a promediar, 3-Obtiene el numero de archivos que hay, 4-Nombre del eje x, \n",
    "# 5- Nombre del eje y\n",
    "\n",
    "p.Obtener_datos()  #Almacena los datos del archivo txt para luego trabajarlos\n",
    "p.Sacar_Promedio() #Obtiene el promedio de los datos, Nota: Si solo se trabaja con un archivo entonces esto no afecta en nada\n",
    "\n",
    "p.Graficador(\"Grafica sin logaritmos\")  \n",
    "p.Sacar_Logaritmos()"
   ]
  },
  {
   "cell_type": "code",
   "execution_count": 3,
   "metadata": {},
   "outputs": [
    {
     "name": "stdout",
     "output_type": "stream",
     "text": [
      "Grafica con logaritmos\n"
     ]
    },
    {
     "data": {
      "image/png": "[encoded data removed]",
      "text/plain": [
       "<Figure size 432x288 with 1 Axes>"
      ]
     },
     "metadata": {
      "needs_background": "light"
     },
     "output_type": "display_data"
    },
    {
     "name": "stdout",
     "output_type": "stream",
     "text": [
      "Grafica con log y recta\n"
     ]
    },
    {
     "data": {
      "image/png": "[encoded data removed]",
      "text/plain": [
       "<Figure size 432x288 with 1 Axes>"
      ]
     },
     "metadata": {
      "needs_background": "light"
     },
     "output_type": "display_data"
    },
    {
     "name": "stdout",
     "output_type": "stream",
     "text": [
      "\n"
     ]
    },
    {
     "data": {
      "image/png": "[encoded data removed]",
      "text/plain": [
       "<Figure size 432x288 with 1 Axes>"
      ]
     },
     "metadata": {
      "needs_background": "light"
     },
     "output_type": "display_data"
    },
    {
     "name": "stdout",
     "output_type": "stream",
     "text": [
      "El valor de la pendiente es: -3.0372090047005544\n",
      "El valor de la intersección es: -5.117107801364275\n",
      "\n",
      "La ecuación de la recta es y=-3.0372090047005544x+-5.117107801364275\n",
      "\n",
      "El error de la pendiente es 0.02514641017540073\n",
      "El error de la intersección es: 0.04760442664926746\n",
      "El valor del coeficiente de correlación es: -0.9996574299207032\n",
      "La ecuación de la exponencial es: y=e^(-5.117107801364275)x^(-3.0372090047005544)\n"
     ]
    }
   ],
   "source": [
    "p.Graficador(\"Grafica con logaritmos\")  \n",
    "\n",
    "p.Minimos_cuadrados()\n",
    "\n",
    "\n",
    "\n",
    "p.Graficar_Recta(\"Grafica con log y recta\") \n",
    "\n",
    "p.Graficador_Exp(\"\")\n",
    "p.Escribir_logaritmos()\n",
    "\n",
    "p.Imprimir_datos()\n"
   ]
  },
  {
   "cell_type": "code",
   "execution_count": null,
   "metadata": {},
   "outputs": [],
   "source": []
  }
 ],
 "metadata": {
  "kernelspec": {
   "display_name": "Python 3",
   "language": "python",
   "name": "python3"
  },
  "language_info": {
   "codemirror_mode": {
    "name": "ipython",
    "version": 3
   },
   "file_extension": ".py",
   "mimetype": "text/x-python",
   "name": "python",
   "nbconvert_exporter": "python",
   "pygments_lexer": "ipython3",
   "version": "3.8.5"
  }
 },
 "nbformat": 4,
 "nbformat_minor": 4
}
